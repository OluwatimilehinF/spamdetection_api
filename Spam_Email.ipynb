{
 "cells": [
  {
   "cell_type": "markdown",
   "id": "9d0f0c47",
   "metadata": {},
   "source": [
    "# SPAM EMAIL CLASSIFIER\n",
    "\n",
    "DATE: 29-08-2022"
   ]
  },
  {
   "cell_type": "markdown",
   "id": "00bc1da7",
   "metadata": {},
   "source": [
    "## PROBLEM STATEMENT\n",
    "\n",
    "Due to the rising rate at which people get scammed through emailing messges, this project tends to build a model that predicts whether an incoming message is a scam or not. "
   ]
  },
  {
   "cell_type": "markdown",
   "id": "83a13a36",
   "metadata": {},
   "source": [
    "### FILES\n",
    "\n",
    "There are ham enails 2551  and 501 spam emails in the dataset\n",
    "\n",
    "- **Source**: https://www.kaggle.com/veleon/ham-and-spam-dataset"
   ]
  },
  {
   "cell_type": "markdown",
   "id": "c0b45928",
   "metadata": {},
   "source": [
    "### Importing basic libraries"
   ]
  },
  {
   "cell_type": "code",
   "execution_count": 1,
   "id": "ef926194",
   "metadata": {},
   "outputs": [],
   "source": [
    "import pandas as pd\n",
    "import numpy as np\n",
    "import os\n",
    "import email\n",
    "import email.policy\n",
    "import random\n",
    "import matplotlib.pyplot as plt"
   ]
  },
  {
   "cell_type": "code",
   "execution_count": 2,
   "id": "9ff53cda",
   "metadata": {},
   "outputs": [],
   "source": [
    "#get spam and ham emails data\n",
    "PATH = r'C:\\Users\\Oluwatimilehin F\\Documents\\Data SC\\ZUMMIT\\hamnspam\\'\n",
    "ham_filenames = [name for name in os.listdir(PATH+'ham')]\n",
    "spam_filenames = [name for name in os.listdir(PATH+'spam')]\n",
    "random.shuffle(ham_filenames)  #shuffle first\n",
    "random.shuffle(spam_filenames)"
   ]
  },
  {
   "cell_type": "code",
   "execution_count": 3,
   "id": "71e9c83a",
   "metadata": {},
   "outputs": [
    {
     "name": "stdout",
     "output_type": "stream",
     "text": [
      "Number of spam emails: 458\n",
      "Number of ham emails: 2548\n"
     ]
    }
   ],
   "source": [
    "#load emails\n",
    "def load_email(is_spam,filename,path):\n",
    "    '''\n",
    "    Load email by its name and location\n",
    "    \n",
    "    @is_spam: whether email is spam or not\n",
    "    @filename: email name\n",
    "    @path: PATH \n",
    "    \n",
    "    @return: email object\n",
    "    '''\n",
    "    if is_spam :\n",
    "        path = path + 'spam/' + filename\n",
    "    else :\n",
    "        path = path + 'ham/' + filename\n",
    "    with open(path,'rb') as file:\n",
    "        return email.parser.BytesParser(policy=email.policy.default).parse(file)\n",
    "\n",
    "ham_emails = [load_email(False,name,PATH) for name in ham_filenames]\n",
    "spam_emails = [load_email(True,name,PATH) for name in spam_filenames]\n",
    "\n",
    "#remove not text type emails\n",
    "ham_emails = [email for email in ham_emails if type(email.get_payload()) is str or len(email.get_payload())>1] \n",
    "spam_emails = [email for email in spam_emails if type(email.get_payload()) is str or len(email.get_payload())>1]\n",
    "\n",
    "print('Number of spam emails:',len(spam_emails))\n",
    "print('Number of ham emails:',len(ham_emails))"
   ]
  },
  {
   "cell_type": "markdown",
   "id": "da9a9646",
   "metadata": {},
   "source": [
    "Thsi implies that there are about 3 empty files in the ham dataset and 43 empty files in the spam dataset"
   ]
  },
  {
   "cell_type": "code",
   "execution_count": 4,
   "id": "09db9361",
   "metadata": {},
   "outputs": [
    {
     "name": "stdout",
     "output_type": "stream",
     "text": [
      "Example spam email content:\n",
      "\n",
      " NEW - NEW - NEW   IN THE MARKET\n",
      "JUST RELEASED:\n",
      " \n",
      "300 Million email addresses--Database Fully Exportable, On 3 CDs!!\n",
      "\n",
      "300 Million email addresses--Database Fully Exportable, On 3 CDs!! =Only $99.95\n",
      "** Contains US & International EMAILS ** \n",
      "With 1.5 Million USA Business Fully Exportable Fax Numbers,   \n",
      "\n",
      "ALL TWO DIRECTORIES ABOVE (300 Million and faxes #)\t ** ONLY $99.95 **\n",
      "\n",
      "BOTH EMAIL DIRECTORIES ARE CATEGORIZED\n",
      "Email Address CDROM (300 Million Addresses)\n",
      "MORE THAN 134 CATEGORIES SUCH AS:\n",
      "\n",
      "USA--50 STATES AND AREA CODE:\n",
      "Contains e-mail addresses of people living in all 50 states. Each state is broken down by area codes. \n",
      "\n",
      "Canada and Area Code:\n",
      "Contains e-mail addresses of people living in Canada. Each province is\n",
      "broken down by area codes\n",
      "\n",
      "Adult:\n",
      "Contains e-mail addresses of people interested in adult content\n",
      "\n",
      "Auto:\n",
      "Contains e-mail addresses of people interested in automotive content\n",
      "\n",
      "Canada:\n",
      "Contains e-mail addresses of people living in Canada. Each province is broken\n",
      "down by area codes.\n",
      "\n",
      "Classifieds:\n",
      "Contains e-mail addresses of people advertising in classifieds and people that\n",
      "are interested in classifieds\n",
      "\n",
      "Culture:\n",
      "Contains e-mail addresses of people interested in antiques, art, entertainment,\n",
      "fashion, movies, etc.\n",
      "\n",
      "Dining:\n",
      "Contains e-mail addresses of people interested in drinking beer, cooking, dining\n",
      "out, etc.\n",
      "\n",
      "\n",
      "Gambling:\n",
      "Contains e-mail addresses of people interested in gambling\n",
      "\n",
      "Gardening:\n",
      "Contains e-mail addresses of people interested in gardening\n",
      "\n",
      "Geographic:\n",
      "Contains e-mail addresses of people residing in different cities and counties,\n",
      "broken down by city name\n",
      "\n",
      "Golf:\n",
      "Contains e-mail addresses of people interested in golf\n",
      "\n",
      "Health:\n",
      "Contains e-mail addresses of people interested in fitness, weight loss, etc.\n",
      "\n",
      "Home Business:\n",
      "Contains e-mail addresses of people interested in running a home based business,\n",
      "or are already operating a home based business\n",
      "\n",
      "Hot List:\n",
      "Contains e-mail addresses of people interested in online shopping\n",
      "\n",
      "International:\n",
      "Contains e-mail addresses of people living in different countries, broken down\n",
      "by name of the country\n",
      "\n",
      "Internet:\n",
      "Contains e-mail addresses of people who registered a domain name in the past 2 months\n",
      "\n",
      "Investments:\n",
      "Contains e-mail addresses of people interested in investing in the market\n",
      "\n",
      "Misc:\n",
      "Contains e-mail addresses of people interested in auctions, boating\n",
      "\n",
      "Books:\n",
      "Coupons, credit, fishing, mortgage, politics, real estate, religion, trade\n",
      "shows, etc.\n",
      "\n",
      "Music:\n",
      "Contains e-mail addresses of people interested in music\n",
      "\n",
      "Internet Market:\n",
      "Contains e-mail addresses of people interested in Internet Market places\n",
      "\n",
      "Opportunity Seekers:\n",
      "Contains e-mail addresses of people interested in different opportunities\n",
      "\n",
      "Opt-In:\n",
      "Contains e-mail addresses of people interested in Opt-In\n",
      "\n",
      "Outdoors:\n",
      "Contains e-mail addresses of people interested in outdoor activity\n",
      "\n",
      "Pet Lovers:\n",
      "Contains e-mail addresses of people interested in pets\n",
      "\n",
      "Psychic:\n",
      "Contains e-mail addresses of people interested in psychics\n",
      "\n",
      "Publishing:\n",
      "Contains e-mail addresses of people interested in publishing\n",
      "\n",
      "Recreation:\n",
      "Contains e-mail addresses of people interested in different recreational\n",
      "activities.\n",
      "\n",
      "Sci-Fi:\n",
      "Contains e-mail addresses of people interested in Sci-Fi\n",
      "\n",
      "Show Business:\n",
      "Contains e-mail addresses of people interested in show business\n",
      "\n",
      "Sports:\n",
      "Contains e-mail addresses of people interested in sports\n",
      "\n",
      "Health:\n",
      "Contains e-mail addresses of people interested in health\n",
      "\n",
      "Web design:\n",
      "Contains e-mail addresses of people interested in web designs\n",
      "\n",
      "Travel:\n",
      "Contains e-mail addresses of people interested in traveling\n",
      "\n",
      "Super List:\n",
      "Contains e-mail addresses of people who have bought more than $2,000.00 over the\n",
      "Internet in the last 4 months\n",
      "\n",
      "The Tropics:\n",
      "Contains e-mail addresses of people who live in the Antigua, Bahamas, Barbados,\n",
      "Bermuda, British Virgin Islands, Caribbean Islands, Cayman Islands, Grenada,\n",
      "Guam, Jamaica, Puerto Rico, St. Kitts & Nevis, St. Lucia, Trinidad & Tobago,\n",
      "Turks & Caicos Islands, US Virgin Islands, etc. broken down by area codes\n",
      "\n",
      "AND MANY MORE!\n",
      "*Everything on this disk is in TEXT file format and is fully exportable.\n",
      "\n",
      "*The CD is as easy to use as browsing your C drive in Explorer.\n",
      "Just think of it, over 300 million people will see your advert, if only a fraction of them was to buy your product/services, think of all the money you would be earning. \n",
      "\n",
      "Are the fax numbers fresh? How many are deliverable? \n",
      "\n",
      "The 1.5 million fax number list has been verified within the last three months and is very fresh and deliverable. \n",
      "\n",
      "Are the fax numbers sorted by name or business type? \n",
      "\n",
      "The 1.5 million fax number list is sorted by area code only. It is not sorted by business name, business type. \n",
      "\n",
      "What file format are the fax numbers in? \n",
      "\n",
      "The 1.5 million fax number list is in a standard text file format (.txt), and is not separated by commas or quotes. The list is compiled in a one-fax number per line method, suitable for importing into most of the popular fax software programs.\n",
      "\n",
      "** The CD is as easy to use as browsing your C drive in Explorer. **\n",
      "\n",
      "NOW YOU CAN ADVERTISE FREE AND GET TREMENDOUSLY\n",
      "MORE RESPONSES THAN ADVERTISING WITH OTHER FORMS OF MEDIA!! ORDER NOW\n",
      "\n",
      "HOW THIS DIRECTORY WAS COMPILED:\n",
      "\n",
      "* Virtually every other email directory on the Internet was taken and put through an extensive email verification process thus eliminating all the dead addresses.\n",
      "* Special software spiders through the web searching websites, newsgroups and many other online databases with given keywords like area codes, industries, city names etc.. To find millions of fresh new addresses every week.\n",
      "\n",
      "TURN YOUR COMPUTER INTO A MONEY MACHINE!\n",
      "\n",
      "Most estimate well over 400 MILLION people will have E-mail accounts in the next 2Years!  E-Mail turns your computer into a Money Machine by giving you, immediate access to all of them. Don't you think some of the more than 300 million people with E-mail addresses would be interested in your products or Services?\n",
      "\n",
      "MUCH FASTER:  With E-mail you get responses back in 1 to 4 days instead of waiting weeks or months!  You can begin filling orders the same day you send E-mail \n",
      "\n",
      "ADVERTISING WORTH MILLIONS:  It costs millions of dollars to mail.\n",
      "\n",
      "DO NOT REPLY TO THIS E-MAIL ADDRESS. TO ORDER, READ BELOW:\n",
      "\n",
      "ORDER BY CREDIT CARD (VISA, MASTERCARD OR AMERICAN EXPRESS) Simply complete the order form below and fax it back\n",
      " TO   1- (240) 371-0672\n",
      "Make sure that we have your e-mail address so that we can send you a reciept for your transaction.\n",
      "\n",
      "CREDIT CARD ORDERS FAX THIS ORDER FORM BACK\n",
      "TO   1- (240) 371-0672\n",
      "\n",
      "ORDER FORM (Please PRINT clearly)\n",
      "Name:\t\t\t\t\t\t\t\t\t\t\n",
      "Company Name:\t\t\t\t\t\t\t\t\t\n",
      "Email Address:\t\t\t\t\t\t\t\t\n",
      "Tel#:\t\t\t\t\t\t\t\t\t\t\n",
      "Shipping Address:\t\t\t\t\t\t\t\t\n",
      "\t\t\t\t\t\t\t\t\t\t\t\t \n",
      "City:\t\t\t\t\t\t\t\t\t\t\t\n",
      "State/Province:\t\t\t\t\t\t\t\t\t \n",
      "Zip/Postal Code:\t \t\t\t\t\t\t\t\n",
      "Country:\t\t\t\t\t\t\t\t\t\t\t\n",
      "\n",
      "PRODUCT ORDER FORM:\n",
      "[ ] 300 MILLION EMAIL ADDRESSES on 3 CDs\t\t$  99.95\n",
      "     And 1. Million USA Business Fax Numbers\t\t\t\n",
      "\n",
      "SHIPPING OPTIONS\n",
      "[ ] Regular Mail (1-2)weeks delivery \t     $  5.50\n",
      "[ ] Priority Mail(2-4)business days \t\t     $12.50\n",
      "[ ] FedEx Overnight For US & Canada Only  $25.50 Int'l orders extra                                                      \n",
      "Only For FedEx\n",
      "\n",
      "TOTAL AMOUNT TO BE PAID: \t$\t\t\tUSD\n",
      "\n",
      "FOR CREDIT CARD ORDERS, THIS INFO MUST BE ENCLOSED:\n",
      "\n",
      "[] VISA  [] MASTERCARD  [] AMERICAN EXPRESS\n",
      "\n",
      "Card #:\t\t\t\t\t\t\t\t\t\t\t\n",
      "Expiry Date:\t\t\t\t\t\t\t\t\t\t\n",
      "Name on Card:\t\t\t\t\t\t\t\t  \t\t\n",
      "City:\t\t\t\t\t\t\t\t\t\t\t\n",
      "State/Province:\t\t\t\t\t\t\t\t\t \n",
      "Zip/Postal Code:\t \t\t\t\t\t\t\t\n",
      "Country:\t\t\t\t\t\t\t\t\t\t\t\n",
      "Last 3 digits on reverse of card next to signature:\n",
      "(     ) - (     ) - (     ) \n",
      "\n",
      "TOTAL AMOUNT: $\t\t\tUSD\n",
      "I agree to pay the above total amount according to my card issuer agreement.\n",
      "\n",
      "Authorized Signature: X\t\t\t Date:\t   2002\t\n",
      "Please note that FT International will appear on your statement.\n",
      "\n",
      "CREDIT CARD ORDERS FAX THIS ORDER FORM BACK\n",
      "TO   1- (240) 371-0672\n",
      "\n",
      "\n",
      "MAIL ORDERS SEND THIS ORDER FORM BACK TOGETHER WITH A MONEY ORDER PAYABLE TO (F.T International). FOR THE BALANCE TO:\n",
      "\n",
      "MAILING ADDRESS:\n",
      "FUTURE TECH INTERNATIONAL\n",
      "Import Export Company\n",
      "1300 Don Mills Road Suite 211\n",
      "Don Mills Ontario, Canada \n",
      "M3B 2W6\n",
      "\n",
      "PLEASE DO NOT SEND POSTAL MONEY ORDERS\n",
      "\n",
      "FOR ANY QUESTIONS PLEASE FEEL FREE TO CALL US AT 1 (416) 410-9364\n",
      "\n",
      "To be removed from our database please send a fax to   1-970-289-6524\n",
      "\n",
      "\n",
      "\n"
     ]
    }
   ],
   "source": [
    "#example\n",
    "test_email = spam_emails[0]\n",
    "print('Example spam email content:\\n\\n',test_email.get_payload()) "
   ]
  },
  {
   "cell_type": "code",
   "execution_count": 5,
   "id": "dea15f1d",
   "metadata": {},
   "outputs": [
    {
     "name": "stderr",
     "output_type": "stream",
     "text": [
      "[nltk_data] Downloading package punkt to C:\\Users\\Oluwatimilehin\n",
      "[nltk_data]     F\\AppData\\Roaming\\nltk_data...\n",
      "[nltk_data]   Package punkt is already up-to-date!\n"
     ]
    }
   ],
   "source": [
    "#stem words\n",
    "from nltk.stem import PorterStemmer\n",
    "from nltk.tokenize import sent_tokenize, word_tokenize\n",
    "import nltk\n",
    "nltk.download('punkt')\n",
    "ps = PorterStemmer()"
   ]
  },
  {
   "cell_type": "code",
   "execution_count": 6,
   "id": "9ffa1592",
   "metadata": {},
   "outputs": [],
   "source": [
    "#process email's content\n",
    "import re\n",
    "import string\n",
    "def process_email(content) :\n",
    "    '''\n",
    "    preprocesses the content of an email \n",
    "    \n",
    "    and returns a dictionary with word as key and its frequency as value\n",
    "    @content : email content (a string)\n",
    "    @return : a counting dictionary \n",
    "    '''                                         \n",
    "    if not isinstance(content,str) :       \n",
    "        return {},''\n",
    "    content = re.sub(r'<[^<>]+>', ' ',content)  ##strip all HTML\n",
    "    content = str.lower(content) ##lower case\n",
    "    \n",
    "    #handle URLS with http:// or https://\n",
    "    content = re.sub(r'(http|https)://[^\\s]*','httpaddr ',content) \n",
    "    \n",
    "    #handle email addresses\n",
    "    #look for strings with @ in the middle\n",
    "    content = re.sub(r'[^\\s]+@[^\\s]+','emailaddr',content)\n",
    "    \n",
    "    content = re.sub(r'[0-9]+', 'number ',content) #handle numbers\n",
    "    content = re.sub(r'[$]+','dollar ',content) #handle $ sign \n",
    "    content = re.sub(r'[\\n]+',' ',content) #remove \\n\n",
    "    #remove punctuaion\n",
    "    content = re.sub(r'[{0}]'.format(string.punctuation),' ',content) \n",
    "    \n",
    "    res = {}\n",
    "    words = word_tokenize(content)\n",
    "    content = ' '.join([ps.stem(word) for word in words])\n",
    "    for word in words :\n",
    "        word = ps.stem(word)\n",
    "        if len(word) > 11 :\n",
    "            continue\n",
    "        if len(word) <=1 :\n",
    "            continue\n",
    "        if not res.get(word):\n",
    "            res[word] = 0\n",
    "        res[word] += 1\n",
    "    \n",
    "    return res,content"
   ]
  },
  {
   "cell_type": "code",
   "execution_count": 7,
   "id": "6c412c40",
   "metadata": {},
   "outputs": [
    {
     "name": "stdout",
     "output_type": "stream",
     "text": [
      "Email content becomes:\n",
      "\n",
      " new new new in the market just releas number million email address databas fulli export on number cd number million email address databas fulli export on number cd onli dollar number number contain us intern email with number number million usa busi fulli export fax number all two directori abov number million and fax onli dollar number number both email directori are categor email address cdrom number million address more than number categori such as usa number state and area code contain e mail address of peopl live in all number state each state is broken down by area code canada and area code contain e mail address of peopl live in canada each provinc is broken down by area code adult contain e mail address of peopl interest in adult content auto contain e mail address of peopl interest in automot content canada contain e mail address of peopl live in canada each provinc is broken down by area code classifi contain e mail address of peopl advertis in classifi and peopl that are interest in classifi cultur contain e mail address of peopl interest in antiqu art entertain fashion movi etc dine contain e mail address of peopl interest in drink beer cook dine out etc gambl contain e mail address of peopl interest in gambl garden contain e mail address of peopl interest in garden geograph contain e mail address of peopl resid in differ citi and counti broken down by citi name golf contain e mail address of peopl interest in golf health contain e mail address of peopl interest in fit weight loss etc home busi contain e mail address of peopl interest in run a home base busi or are alreadi oper a home base busi hot list contain e mail address of peopl interest in onlin shop intern contain e mail address of peopl live in differ countri broken down by name of the countri internet contain e mail address of peopl who regist a domain name in the past number month invest contain e mail address of peopl interest in invest in the market misc contain e mail address of peopl interest in auction boat book coupon credit fish mortgag polit real estat religion trade show etc music contain e mail address of peopl interest in music internet market contain e mail address of peopl interest in internet market place opportun seeker contain e mail address of peopl interest in differ opportun opt in contain e mail address of peopl interest in opt in outdoor contain e mail address of peopl interest in outdoor activ pet lover contain e mail address of peopl interest in pet psychic contain e mail address of peopl interest in psychic publish contain e mail address of peopl interest in publish recreat contain e mail address of peopl interest in differ recreat activ sci fi contain e mail address of peopl interest in sci fi show busi contain e mail address of peopl interest in show busi sport contain e mail address of peopl interest in sport health contain e mail address of peopl interest in health web design contain e mail address of peopl interest in web design travel contain e mail address of peopl interest in travel super list contain e mail address of peopl who have bought more than dollar number number number over the internet in the last number month the tropic contain e mail address of peopl who live in the antigua bahama barbado bermuda british virgin island caribbean island cayman island grenada guam jamaica puerto rico st kitt nevi st lucia trinidad tobago turk caico island us virgin island etc broken down by area code and mani more everyth on thi disk is in text file format and is fulli export the cd is as easi to use as brows your c drive in explor just think of it over number million peopl will see your advert if onli a fraction of them wa to buy your product servic think of all the money you would be earn are the fax number fresh how mani are deliver the number number million fax number list ha been verifi within the last three month and is veri fresh and deliver are the fax number sort by name or busi type the number number million fax number list is sort by area code onli it is not sort by busi name busi type what file format are the fax number in the number number million fax number list is in a standard text file format txt and is not separ by comma or quot the list is compil in a one fax number per line method suitabl for import into most of the popular fax softwar program the cd is as easi to use as brows your c drive in explor now you can advertis free and get tremend more respons than advertis with other form of media order now how thi directori wa compil virtual everi other email directori on the internet wa taken and put through an extens email verif process thu elimin all the dead address special softwar spider through the web search websit newsgroup and mani other onlin databas with given keyword like area code industri citi name etc to find million of fresh new address everi week turn your comput into a money machin most estim well over number million peopl will have e mail account in the next number year e mail turn your comput into a money machin by give you immedi access to all of them don t you think some of the more than number million peopl with e mail address would be interest in your product or servic much faster with e mail you get respons back in number to number day instead of wait week or month you can begin fill order the same day you send e mail advertis worth million it cost million of dollar to mail do not repli to thi e mail address to order read below order by credit card visa mastercard or american express simpli complet the order form below and fax it back to number number number number make sure that we have your e mail address so that we can send you a reciept for your transact credit card order fax thi order form back to number number number number order form pleas print clearli name compani name email address tel ship address citi state provinc zip postal code countri product order form number million email address on number cd dollar number number and number million usa busi fax number ship option regular mail number number week deliveri dollar number number prioriti mail number number busi day dollar number number fedex overnight for us canada onli dollar number number int l order extra onli for fedex total amount to be paid dollar usd for credit card order thi info must be enclos visa mastercard american express card expiri date name on card citi state provinc zip postal code countri last number digit on revers of card next to signatur total amount dollar usd i agre to pay the abov total amount accord to my card issuer agreement author signatur x date number pleas note that ft intern will appear on your statement credit card order fax thi order form back to number number number number mail order send thi order form back togeth with a money order payabl to f t intern for the balanc to mail address futur tech intern import export compani number don mill road suit number don mill ontario canada mnumber b number wnumber pleas do not send postal money order for ani question pleas feel free to call us at number number number number to be remov from our databas pleas send a fax to number number number number\n",
      "\n",
      "\n"
     ]
    }
   ],
   "source": [
    "(res,content) = process_email(test_email.get_payload())\n",
    "print('Email content becomes:\\n\\n',process_email(test_email.get_payload())[1]) \n",
    "print('\\n')"
   ]
  },
  {
   "cell_type": "code",
   "execution_count": 8,
   "id": "13a2d434",
   "metadata": {},
   "outputs": [
    {
     "name": "stdout",
     "output_type": "stream",
     "text": [
      "number of total words in spam emails: 44304\n",
      "number of words that with frequency than 11: 1772\n"
     ]
    }
   ],
   "source": [
    "#build vocabulary for spam emails\n",
    "def build_vocab(emails) :\n",
    "    '''\n",
    "    build_vocab will build a vocabulary with words \n",
    "    appearing in the email content\n",
    "    @emails : list of email\n",
    "    @return : \n",
    "    '''\n",
    "    assert isinstance(emails,list)\n",
    "    dic = {}\n",
    "    index = 0\n",
    "    \n",
    "    while index < len(emails) :\n",
    "        email = emails[index]\n",
    "        judge = email.get_payload()\n",
    "        if type(judge) is not str:\n",
    "            dict_email = {}\n",
    "            for e in judge :\n",
    "                dic_toadd = process_email(e.get_payload())\n",
    "                for word in dic_toadd[0] :\n",
    "                    if not dic_email.get(word):\n",
    "                        dic_email[word] = 0\n",
    "                    dic_email[word] += 1\n",
    "        else :\n",
    "            dic_email = process_email(judge)[0]\n",
    "        for word in dic_email.keys() :\n",
    "            if not dic.get(word) :\n",
    "                dic[word] = 0\n",
    "            dic[word] += dic_email[word]\n",
    "        index+=1\n",
    "    \n",
    "    return dic\n",
    "# print(test_email['Subject'])\n",
    "vocab = build_vocab(spam_emails)\n",
    "print('number of total words in spam emails:', len(vocab.keys()))\n",
    "vocab = [word for word in vocab.keys() if vocab[word]>11]\n",
    "print('number of words that with frequency than 11:', len(vocab))\n",
    "n = len(vocab)"
   ]
  },
  {
   "cell_type": "code",
   "execution_count": 9,
   "id": "7ce8d970",
   "metadata": {},
   "outputs": [],
   "source": [
    "#export vocabulary to a csv file\n",
    "df_vo = pd.DataFrame(vocab)\n",
    "df_vo = df_vo.rename(columns={0:'words'})\n",
    "df_vo.to_csv('vocabulary.csv',index=False)"
   ]
  },
  {
   "cell_type": "code",
   "execution_count": 10,
   "id": "9dc611f9",
   "metadata": {},
   "outputs": [],
   "source": [
    "import random\n",
    "class emailToFeature:\n",
    "    '''\n",
    "    This is a class for building feature vectors\n",
    "    '''\n",
    "    def __init__(self,filename) :\n",
    "        vocab = pd.read_csv(filename)\n",
    "        vocab = list(vocab['words'])\n",
    "        index = 0\n",
    "        vocabulary = {}\n",
    "        while index < len(vocab) :\n",
    "            vocabulary[vocab[index]] = index\n",
    "            index+=1\n",
    "        self.d = len(vocab)\n",
    "        self.vocab = vocabulary   \n",
    "    \n",
    "    def fea_vector(self,email) :\n",
    "        '''\n",
    "        return a numpy array(1Xn) representing the\n",
    "        feature vector\n",
    "        @email: input email can be both a string and email object\n",
    "        '''\n",
    "        if type(email) is str:\n",
    "            judge = email\n",
    "        else :\n",
    "            judge = email.get_payload()\n",
    "        if not type(judge) is str:\n",
    "            dic_email = {}\n",
    "            for e in judge :\n",
    "                dic_toadd = process_email(e.get_payload())\n",
    "                for word in dic_toadd[0] :\n",
    "                    if not dic_email.get(word):\n",
    "                        dic_email[word] = 0\n",
    "                    dic_email[word] += 1\n",
    "        else :\n",
    "            dic_email = process_email(judge)[0]\n",
    "            \n",
    "        res = np.zeros((1,self.d))\n",
    "        for word in dic_email.keys() :\n",
    "            if not self.vocab.get(word):\n",
    "                continue\n",
    "            index = self.vocab[word]\n",
    "            res[0,index] = 1\n",
    "        return res\n",
    "    \n",
    "    def build_vectors(self,is_spam,emails) :\n",
    "        '''\n",
    "        build feature vectors\n",
    "        \n",
    "        @emails : list of ham or spam emails\n",
    "        @return : numpy array representing feature vectors\n",
    "        '''\n",
    "        N = len(emails)  # N*d array\n",
    "        fea_vectors = np.zeros((N,self.d+1))\n",
    "        for i in range(N) :\n",
    "            a = self.fea_vector(emails[i])\n",
    "            fea_vectors[i,:-1] = a\n",
    "        if is_spam :\n",
    "            fea_vectors[:,self.d] = 1\n",
    "        else :\n",
    "            fea_vectors[:,self.d] = 0\n",
    "        return fea_vectors       "
   ]
  },
  {
   "cell_type": "code",
   "execution_count": 11,
   "id": "055448f2",
   "metadata": {},
   "outputs": [
    {
     "name": "stdout",
     "output_type": "stream",
     "text": [
      "size of spam feature vectors is: (458, 1773)\n",
      "size of ham feature vectors is: (2548, 1773)\n"
     ]
    }
   ],
   "source": [
    "#construct feature vectors and export them to csv files\n",
    "emailTof = emailToFeature('vocabulary.csv') #class object\n",
    "spam_vectors = emailTof.build_vectors(True,spam_emails)\n",
    "ham_vectors = emailTof.build_vectors(False,ham_emails)\n",
    "\n",
    "index = list(range(n+1))\n",
    "spam_df = pd.DataFrame(spam_vectors,columns=index)\n",
    "spam_df.to_csv('spam_vectors.csv',index = False)\n",
    "ham_df = pd.DataFrame(ham_vectors,columns=index)\n",
    "ham_df.to_csv('ham_vectors.csv',index=False)\n",
    "\n",
    "print('size of spam feature vectors is:',spam_vectors.shape)\n",
    "print('size of ham feature vectors is:',ham_vectors.shape)"
   ]
  },
  {
   "cell_type": "code",
   "execution_count": 12,
   "id": "9f7ce756",
   "metadata": {},
   "outputs": [],
   "source": [
    "#split the data to training set and test set (80%,20%)\n",
    "ham_training = ham_vectors[:2039]\n",
    "ham_test = ham_vectors[2039:]\n",
    "\n",
    "spam_training = spam_vectors[:365]\n",
    "spam_test = spam_vectors[365:]\n",
    "\n",
    "training = np.concatenate((ham_training,spam_training))\n",
    "np.random.shuffle(training)\n",
    "pd.DataFrame(training,columns=index).to_csv('training.csv',index=False)\n",
    "\n",
    "\n",
    "test = np.concatenate((ham_test,spam_test))\n",
    "pd.DataFrame(test,columns=index).to_csv('test.csv',index=False)"
   ]
  },
  {
   "cell_type": "code",
   "execution_count": 13,
   "id": "fb260f58",
   "metadata": {},
   "outputs": [],
   "source": [
    "#Get word frequency distribution in both spam and non-spam email\n",
    "#60% training data and 20% test data, the same as above\n",
    "#Only use the word whose frequency difference between spam and non-spam email is greater than 20\n",
    "vocab_spam = build_vocab(spam_emails[0:365])\n",
    "vocab_ham = build_vocab(ham_emails[0:2039])\n",
    "voc = [word for word in vocab_spam.keys() if vocab_ham.get(word) and abs(vocab_ham[word] - vocab_spam[word]) > 20] \n",
    "vocab_ham = {word:vocab_ham[word] for word in voc}\n",
    "vocab_spam = {word:vocab_spam[word] for word in voc}\n",
    "sum_ham,sum_spam = sum(list(vocab_ham.values())),sum(list(vocab_spam.values()))\n",
    "vocab_ham = {word:vocab_ham[word]/sum_ham for word in voc}   # key is word and value is probability in ham eamils\n",
    "vocab_spam = {word:vocab_spam[word]/sum_spam for word in voc} # key is word and value is probability in spam eamils"
   ]
  },
  {
   "cell_type": "code",
   "execution_count": 14,
   "id": "f9a4eac7",
   "metadata": {},
   "outputs": [],
   "source": [
    "# 20%test set\n",
    "spam_test,ham_test = spam_emails[365:],ham_emails[2039:]"
   ]
  },
  {
   "cell_type": "code",
   "execution_count": 15,
   "id": "bd5fef7c",
   "metadata": {},
   "outputs": [],
   "source": [
    "word_spam = list(vocab_spam.keys())\n",
    "word_spam.sort(key=lambda x:vocab_spam[x],reverse=True)\n",
    "word_spam = word_spam[:100] #choose 100 words\n",
    "y_spam, y_ham= [vocab_spam[word] for word in word_spam],[vocab_ham[word] for word in word_spam]"
   ]
  },
  {
   "cell_type": "markdown",
   "id": "de4970ad",
   "metadata": {},
   "source": [
    "### Word frequency probability distribution(spam email)"
   ]
  },
  {
   "cell_type": "code",
   "execution_count": 16,
   "id": "e0ba355f",
   "metadata": {},
   "outputs": [
    {
     "data": {
      "image/png": "[encoded data removed]",
      "text/plain": [
       "<Figure size 504x360 with 1 Axes>"
      ]
     },
     "metadata": {
      "needs_background": "light"
     },
     "output_type": "display_data"
    }
   ],
   "source": [
    "plt.figure(figsize = (7,5))\n",
    "plt.plot(list(range(100)),y_spam)\n",
    "plt.ylabel('Probability')\n",
    "plt.xlabel('Index of word(only show 100 words)')\n",
    "plt.title('Word frequency probability distribution(spam email)')\n",
    "plt.show()"
   ]
  },
  {
   "cell_type": "markdown",
   "id": "c830b7a7",
   "metadata": {},
   "source": [
    "### Word frequency probability distribution(non-spam)"
   ]
  },
  {
   "cell_type": "code",
   "execution_count": 17,
   "id": "dedc17eb",
   "metadata": {},
   "outputs": [
    {
     "data": {
      "image/png": "[encoded data removed]",
      "text/plain": [
       "<Figure size 504x360 with 1 Axes>"
      ]
     },
     "metadata": {
      "needs_background": "light"
     },
     "output_type": "display_data"
    }
   ],
   "source": [
    "plt.figure(figsize = (7,5))\n",
    "plt.plot(list(range(100)),y_ham)\n",
    "plt.ylabel('Probability')\n",
    "plt.xlabel('Index of word(only show 100 words)')\n",
    "plt.title('Word frequency probability distribution(non-spam)')\n",
    "plt.show()"
   ]
  },
  {
   "cell_type": "code",
   "execution_count": 18,
   "id": "7eb29c6c",
   "metadata": {},
   "outputs": [],
   "source": [
    "#import training data\n",
    "training = pd.read_csv('training.csv')\n",
    "X_training = training.loc[:,'0':str(n-1)]\n",
    "y_training = training.loc[:,[str(n)]]\n",
    "y_training = np.array(y_training)\n",
    "y_training = y_training[:,0]\n",
    "X_training = np.concatenate( (np.ones((X_training.shape[0],1)),X_training), 1)\n",
    "\n",
    "\n",
    "#import test data\n",
    "test = pd.read_csv('test.csv')\n",
    "X_test = test.loc[:,'0':str(n-1)]\n",
    "y_test = test.loc[:,[str(n)]]\n",
    "y_test = np.array(y_test)\n",
    "y_test = y_test[:,0]\n",
    "X_test = np.concatenate( (np.ones((X_test.shape[0],1)),X_test), 1)"
   ]
  },
  {
   "cell_type": "code",
   "execution_count": 19,
   "id": "3efcb38e",
   "metadata": {},
   "outputs": [
    {
     "data": {
      "text/plain": [
       "(2404, 1773)"
      ]
     },
     "execution_count": 19,
     "metadata": {},
     "output_type": "execute_result"
    }
   ],
   "source": [
    "training.shape"
   ]
  },
  {
   "cell_type": "code",
   "execution_count": 20,
   "id": "be336c88",
   "metadata": {},
   "outputs": [
    {
     "data": {
      "text/plain": [
       "(602, 1773)"
      ]
     },
     "execution_count": 20,
     "metadata": {},
     "output_type": "execute_result"
    }
   ],
   "source": [
    "test.shape"
   ]
  },
  {
   "cell_type": "markdown",
   "id": "f56ced93",
   "metadata": {},
   "source": [
    "### Training and making prediction using the test set dataset"
   ]
  },
  {
   "cell_type": "code",
   "execution_count": 21,
   "id": "7be5d9f0",
   "metadata": {},
   "outputs": [],
   "source": [
    "from sklearn.linear_model import LogisticRegression"
   ]
  },
  {
   "cell_type": "code",
   "execution_count": 22,
   "id": "7e2fbff3",
   "metadata": {},
   "outputs": [],
   "source": [
    "lr = LogisticRegression()\n",
    "lr.fit(X_training, y_training)\n",
    "lr_pred = lr.predict(X_test)"
   ]
  },
  {
   "cell_type": "markdown",
   "id": "370f3316",
   "metadata": {},
   "source": [
    "### Evaluation results for Logistic Regression model"
   ]
  },
  {
   "cell_type": "code",
   "execution_count": 23,
   "id": "4ac977a4",
   "metadata": {},
   "outputs": [
    {
     "name": "stdout",
     "output_type": "stream",
     "text": [
      "precision for Logistic Regression Model model is: 1.0\n",
      "recall for Logistic model is: 0.9354838709677419\n",
      "F1-score for Logistic Regression is: 0.9666666666666666\n",
      "Accuracy of correct prediction is: 0.9900332225913622\n"
     ]
    }
   ],
   "source": [
    "from sklearn.metrics import accuracy_score, precision_score, recall_score, f1_score\n",
    "\n",
    "lr_accuracy = accuracy_score(y_test, lr_pred)\n",
    "lr_precision = precision_score(y_test, lr_pred)\n",
    "lr_rec = recall_score(y_test, lr_pred)\n",
    "lr_f1 = f1_score(y_test, lr_pred)\n",
    "\n",
    "print('precision for Logistic Regression Model model is:', lr_precision)\n",
    "print('recall for Logistic model is:',lr_rec)\n",
    "print('F1-score for Logistic Regression is:',lr_f1)\n",
    "print('Accuracy of correct prediction is:', lr_accuracy)"
   ]
  },
  {
   "cell_type": "markdown",
   "id": "900af30a",
   "metadata": {},
   "source": [
    "### CREATING A JOBLIB FILE"
   ]
  },
  {
   "cell_type": "code",
   "execution_count": 24,
   "id": "c3be3e50",
   "metadata": {},
   "outputs": [],
   "source": [
    "import joblib\n",
    "with open(\"Email_Classifier_Joblib.pkl\", \"wb\") as file:\n",
    "    joblib.dump(lr, file)"
   ]
  }
 ],
 "metadata": {
  "kernelspec": {
   "display_name": "Python 3 (ipykernel)",
   "language": "python",
   "name": "python3"
  },
  "language_info": {
   "codemirror_mode": {
    "name": "ipython",
    "version": 3
   },
   "file_extension": ".py",
   "mimetype": "text/x-python",
   "name": "python",
   "nbconvert_exporter": "python",
   "pygments_lexer": "ipython3",
   "version": "3.10.5"
  }
 },
 "nbformat": 4,
 "nbformat_minor": 5
}
